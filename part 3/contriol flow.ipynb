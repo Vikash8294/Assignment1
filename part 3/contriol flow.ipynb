{
 "cells": [
  {
   "cell_type": "code",
   "execution_count": 1,
   "metadata": {},
   "outputs": [
    {
     "name": "stdout",
     "output_type": "stream",
     "text": [
      "5 is positive\n"
     ]
    }
   ],
   "source": [
    "x = int(input(\"enter any number\")) ##taking any number from user\n",
    "if(x > 0):\n",
    "    print(f\"{x} is positive\") ##display if num is positive\n",
    "elif(x < 0):\n",
    "    print(f\"{x} is negative\") ##display if num is negative\n",
    "else:\n",
    "    print(f\"{x} is equal to zero\") ## display if num is zero  "
   ]
  },
  {
   "cell_type": "code",
   "execution_count": 1,
   "metadata": {},
   "outputs": [
    {
     "name": "stdout",
     "output_type": "stream",
     "text": [
      "you entered the number: 5\n",
      "you entered the number: 6\n",
      "exiting the loop\n"
     ]
    }
   ],
   "source": [
    "while True: ##this loop is an infinte loop\n",
    "    user_input = input(\"enter any number (or type 'exit' to stop)\")\n",
    "    \n",
    "    if(user_input.lower() == 'exit'): ##check if user enter 'exit' in lower case\n",
    "        print(\"exiting the loop\")\n",
    "        break #to exit the loop\n",
    "    \n",
    "    else: ## continue the loop if exit is not entered\n",
    "        num = int(user_input)\n",
    "        print(f\"you entered the number: {num}\")\n",
    "        continue # prompt for a new number if the input is not 'exit'"
   ]
  },
  {
   "cell_type": "code",
   "execution_count": null,
   "metadata": {},
   "outputs": [],
   "source": []
  }
 ],
 "metadata": {
  "kernelspec": {
   "display_name": "Python 3",
   "language": "python",
   "name": "python3"
  },
  "language_info": {
   "codemirror_mode": {
    "name": "ipython",
    "version": 3
   },
   "file_extension": ".py",
   "mimetype": "text/x-python",
   "name": "python",
   "nbconvert_exporter": "python",
   "pygments_lexer": "ipython3",
   "version": "3.11.9"
  }
 },
 "nbformat": 4,
 "nbformat_minor": 2
}
