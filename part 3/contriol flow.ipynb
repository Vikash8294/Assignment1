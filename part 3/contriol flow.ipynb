{
 "cells": [
  {
   "cell_type": "code",
   "execution_count": 1,
   "metadata": {},
   "outputs": [
    {
     "name": "stdout",
     "output_type": "stream",
     "text": [
      "5 is positive\n"
     ]
    }
   ],
   "source": [
    "x = int(input(\"enter any number\")) ##taking any number from user\n",
    "if(x > 0):\n",
    "    print(f\"{x} is positive\") ##display if num is positive\n",
    "elif(x < 0):\n",
    "    print(f\"{x} is negative\") ##display if num is negative\n",
    "else:\n",
    "    print(f\"{x} is equal to zero\") ## display if num is zero  "
   ]
  },
  {
   "cell_type": "code",
   "execution_count": 2,
   "metadata": {},
   "outputs": [
    {
     "name": "stdout",
     "output_type": "stream",
     "text": [
      "you entered the number: 5\n",
      "you entered the number: 5\n",
      "you entered the number: 5\n",
      "you entered the number: 5\n",
      "you entered the number: 5\n"
     ]
    },
    {
     "ename": "ValueError",
     "evalue": "invalid literal for int() with base 10: ''",
     "output_type": "error",
     "traceback": [
      "\u001b[1;31m---------------------------------------------------------------------------\u001b[0m",
      "\u001b[1;31mValueError\u001b[0m                                Traceback (most recent call last)",
      "Cell \u001b[1;32mIn[2], line 9\u001b[0m\n\u001b[0;32m      6\u001b[0m     \u001b[38;5;28;01mbreak\u001b[39;00m \u001b[38;5;66;03m#to exit the loop\u001b[39;00m\n\u001b[0;32m      8\u001b[0m \u001b[38;5;28;01melse\u001b[39;00m: \u001b[38;5;66;03m## continue the loop if exit is not entered\u001b[39;00m\n\u001b[1;32m----> 9\u001b[0m     num \u001b[38;5;241m=\u001b[39m \u001b[38;5;28;43mint\u001b[39;49m\u001b[43m(\u001b[49m\u001b[43muser_input\u001b[49m\u001b[43m)\u001b[49m\n\u001b[0;32m     10\u001b[0m     \u001b[38;5;28mprint\u001b[39m(\u001b[38;5;124mf\u001b[39m\u001b[38;5;124m\"\u001b[39m\u001b[38;5;124myou entered the number: \u001b[39m\u001b[38;5;132;01m{\u001b[39;00mnum\u001b[38;5;132;01m}\u001b[39;00m\u001b[38;5;124m\"\u001b[39m)\n\u001b[0;32m     11\u001b[0m     \u001b[38;5;28;01mcontinue\u001b[39;00m \u001b[38;5;66;03m# prompt for a new number if the input is not 'exit'\u001b[39;00m\n",
      "\u001b[1;31mValueError\u001b[0m: invalid literal for int() with base 10: ''"
     ]
    }
   ],
   "source": [
    "while True: ##this loop is an infinte loop\n",
    "    user_input = input(\"enter any number (or type 'exit' to stop)\")\n",
    "    \n",
    "    if(user_input.lower() == 'exit'): ##check if user enter 'exit' in lower case\n",
    "        print(\"exiting the loop\")\n",
    "        break #to exit the loop\n",
    "    \n",
    "    else: ## continue the loop if exit is not entered\n",
    "        num = int(user_input)\n",
    "        print(f\"you entered the number: {num}\")\n",
    "        continue # prompt for a new number if the input is not 'exit'"
   ]
  }
 ],
 "metadata": {
  "kernelspec": {
   "display_name": "Python 3",
   "language": "python",
   "name": "python3"
  },
  "language_info": {
   "codemirror_mode": {
    "name": "ipython",
    "version": 3
   },
   "file_extension": ".py",
   "mimetype": "text/x-python",
   "name": "python",
   "nbconvert_exporter": "python",
   "pygments_lexer": "ipython3",
   "version": "3.11.9"
  }
 },
 "nbformat": 4,
 "nbformat_minor": 2
}
