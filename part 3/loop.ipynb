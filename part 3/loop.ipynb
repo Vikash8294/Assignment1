{
 "cells": [
  {
   "cell_type": "code",
   "execution_count": 1,
   "metadata": {},
   "outputs": [
    {
     "name": "stdout",
     "output_type": "stream",
     "text": [
      "decimal to Binary conversion of 5 is:  101\n",
      "decimal to octal conversion of 5 is:  5\n",
      "decimal to hexadecimal conversion of 5 is:  5\n"
     ]
    }
   ],
   "source": [
    "# function to convert into binary, octal, hexadecimal\n",
    "def conversion(num, base):\n",
    "    # Handle the special case where the number is 0\n",
    "    if num == 0:\n",
    "        return '0'\n",
    "    \n",
    "    digits = ''\n",
    "    \n",
    "    # Loop until num is reduced to 0\n",
    "    while(num > 0):\n",
    "        # Find the remainder of num divided by n (current least significant digit)\n",
    "        rem = num % base\n",
    "        # Prepend the remainder to the result string\n",
    "        digits = str(rem) + digits\n",
    "        num = num // base ## Update num to be the quotient of num divided by n (shift right by one digit)\n",
    "    \n",
    "    return digits\n",
    "    \n",
    "\n",
    "# Prompt the user to input a decimal number    \n",
    "num = int(input(\"enter any number\"))\n",
    "# Print the conversions of the number to binary, octal, and hexadecimal\n",
    "print(f\"decimal to Binary conversion of {num} is: \",conversion(num,2))\n",
    "print(f\"decimal to octal conversion of {num} is: \",conversion(num,8))\n",
    "print(f\"decimal to hexadecimal conversion of {num} is: \", conversion(num,6))  "
   ]
  }
 ],
 "metadata": {
  "kernelspec": {
   "display_name": "Python 3",
   "language": "python",
   "name": "python3"
  },
  "language_info": {
   "codemirror_mode": {
    "name": "ipython",
    "version": 3
   },
   "file_extension": ".py",
   "mimetype": "text/x-python",
   "name": "python",
   "nbconvert_exporter": "python",
   "pygments_lexer": "ipython3",
   "version": "3.11.9"
  }
 },
 "nbformat": 4,
 "nbformat_minor": 2
}
