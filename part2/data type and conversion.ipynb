{
 "cells": [
  {
   "cell_type": "code",
   "execution_count": 1,
   "metadata": {},
   "outputs": [
    {
     "name": "stdout",
     "output_type": "stream",
     "text": [
      "integer value is: 6\n",
      "float value is 6.0\n",
      "complex value is (6+0j)\n"
     ]
    }
   ],
   "source": [
    "val = int(input(\"enter any number\"))\n",
    "\n",
    "#converting the data type into integer\n",
    "_int = int(val)\n",
    "print(f\"integer value is: {_int}\")\n",
    "\n",
    "#converting the data into float\n",
    "_float = float(val)\n",
    "print(f\"float value is {_float}\")\n",
    "\n",
    "#converting the data into complex\n",
    "_complex = complex(val)\n",
    "print(f\"complex value is {_complex}\")\n",
    "\n",
    "\n",
    "# Difference between integer , float and complex data types\n",
    "\n",
    "# 1. Integer (int):\n",
    "# Represents whole numbers without any fractional or decimal part. \n",
    "# They can be positive, negative, or zero.\n",
    "# Example: 5, -42, 0\n",
    "\n",
    "# => Characteristics:\n",
    "# No decimal point.\n",
    "# Precision is unlimited (i.e., Python integers can grow as large as the memory allows).\n",
    "# Common operations: addition, subtraction, multiplication, division, modulo, exponentiation.\n",
    "\n",
    "\n",
    "# 2. Float (float):\n",
    "# Represents real numbers that include a decimal point. \n",
    "# These numbers have a fractional part and are used for more precise calculations.\n",
    "# Example: 5.0, -3.14, 0.001\n",
    "\n",
    "# => Characteristics:\n",
    "# Contains a decimal point to separate the whole part from the fractional part.\n",
    "# Floating-point numbers are represented in Python using double precision (64-bit) according to the IEEE 754 standard.\n",
    "# Precision is limited by the floating-point representation (up to about 15-17 significant digits).\n",
    "# Common operations: similar to integers, but also include operations with decimals and real numbers.\n",
    "\n",
    "\n",
    "# 3. Complex (complex):\n",
    "# Represents complex numbers, which have a real part and an imaginary part.\n",
    "# The imaginary part is indicated by a j or J.\n",
    "# Example: 3 + 4j, -2.5 + 3.1j\n",
    "\n",
    "# => Characteristics:\n",
    "# Composed of a real part (an int or float) and an imaginary part (a float) which is multiplied by j (the square root of -1).\n",
    "# Used in mathematics and engineering to represent complex numbers.\n",
    "# Common operations: addition, subtraction, multiplication, division, and other operations on complex numbers."
   ]
  }
 ],
 "metadata": {
  "kernelspec": {
   "display_name": "Python 3",
   "language": "python",
   "name": "python3"
  },
  "language_info": {
   "codemirror_mode": {
    "name": "ipython",
    "version": 3
   },
   "file_extension": ".py",
   "mimetype": "text/x-python",
   "name": "python",
   "nbconvert_exporter": "python",
   "pygments_lexer": "ipython3",
   "version": "3.11.9"
  }
 },
 "nbformat": 4,
 "nbformat_minor": 2
}
