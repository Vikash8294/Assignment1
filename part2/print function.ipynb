{
 "cells": [
  {
   "cell_type": "code",
   "execution_count": 1,
   "metadata": {},
   "outputs": [
    {
     "name": "stdout",
     "output_type": "stream",
     "text": [
      "The average of the three numbers is: 5.00\n"
     ]
    }
   ],
   "source": [
    "# Take three numbers as input from the user\n",
    "x = float(input(\"Enter the first number: \"))\n",
    "y = float(input(\"Enter the second number: \"))\n",
    "z = float(input(\"Enter the third number: \"))\n",
    "\n",
    "# Calculate the average\n",
    "avg = (x + y + z) / 3\n",
    "\n",
    "# Print the average using the % method for string formatting\n",
    "print(\"The average of the three numbers is: %.2f\" % avg)"
   ]
  }
 ],
 "metadata": {
  "kernelspec": {
   "display_name": "Python 3",
   "language": "python",
   "name": "python3"
  },
  "language_info": {
   "codemirror_mode": {
    "name": "ipython",
    "version": 3
   },
   "file_extension": ".py",
   "mimetype": "text/x-python",
   "name": "python",
   "nbconvert_exporter": "python",
   "pygments_lexer": "ipython3",
   "version": "3.11.9"
  }
 },
 "nbformat": 4,
 "nbformat_minor": 2
}
