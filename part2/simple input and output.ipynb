{
 "cells": [
  {
   "cell_type": "code",
   "execution_count": 1,
   "metadata": {},
   "outputs": [
    {
     "name": "stdout",
     "output_type": "stream",
     "text": [
      "area of rectangle with length 6.0 and width 5.0 is: 30.00\n"
     ]
    }
   ],
   "source": [
    "##asking length and width from user\n",
    "len = float(input(\"enter the length of a rectangle\"))\n",
    "wid = float(input(\"enter the width of a rectangle\"))\n",
    "\n",
    "## calculating area of rectangle\n",
    "area = len * wid\n",
    "# format area upto two decimal places\n",
    "format_area = \"{:.2f}\".format(area)\n",
    "print(f\"area of rectangle with length {len} and width {wid} is: {format_area}\")"
   ]
  }
 ],
 "metadata": {
  "kernelspec": {
   "display_name": "Python 3",
   "language": "python",
   "name": "python3"
  },
  "language_info": {
   "codemirror_mode": {
    "name": "ipython",
    "version": 3
   },
   "file_extension": ".py",
   "mimetype": "text/x-python",
   "name": "python",
   "nbconvert_exporter": "python",
   "pygments_lexer": "ipython3",
   "version": "3.11.9"
  }
 },
 "nbformat": 4,
 "nbformat_minor": 2
}
