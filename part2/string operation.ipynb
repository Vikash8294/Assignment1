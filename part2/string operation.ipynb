{
 "cells": [
  {
   "cell_type": "code",
   "execution_count": 2,
   "metadata": {},
   "outputs": [
    {
     "name": "stdout",
     "output_type": "stream",
     "text": [
      "Vikash Kumar Singh after reversing\n",
      "hgniS ramuK hsakiV\n"
     ]
    }
   ],
   "source": [
    "name = input(\"enter your name\") # Prompt the user to enter their name\n",
    "\n",
    "fName = \"\" # Initialize an empty string to store the reversed name\n",
    "for i in name:\n",
    "    fName = i + fName #Prepend the current character to the fName \n",
    "print(f\"{name} after reversing\")    \n",
    "print(fName)  # Print the reversed name"
   ]
  }
 ],
 "metadata": {
  "kernelspec": {
   "display_name": "Python 3",
   "language": "python",
   "name": "python3"
  },
  "language_info": {
   "codemirror_mode": {
    "name": "ipython",
    "version": 3
   },
   "file_extension": ".py",
   "mimetype": "text/x-python",
   "name": "python",
   "nbconvert_exporter": "python",
   "pygments_lexer": "ipython3",
   "version": "3.11.9"
  }
 },
 "nbformat": 4,
 "nbformat_minor": 2
}
