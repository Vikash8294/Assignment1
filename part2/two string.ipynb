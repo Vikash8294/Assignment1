{
 "cells": [
  {
   "cell_type": "code",
   "execution_count": 1,
   "metadata": {},
   "outputs": [
    {
     "name": "stdout",
     "output_type": "stream",
     "text": [
      "number of occurence is  4\n",
      "5\n"
     ]
    }
   ],
   "source": [
    "# 1.Count() method:\n",
    "## Python String count() function returns the number of occurrences of a substring within a String\n",
    "## string count() function is case sensitive, meaning it will treat ‘a’ and ‘A’ different.\n",
    "str = \"Mississipi\"\n",
    "charCount = str.count('s')\n",
    "print('number of occurence is ',charCount)\n",
    "\n",
    "\n",
    "# 2.find() method:\n",
    "## Python String find() method returns the lowest index or first occurrence of the substring\n",
    "# if it is found in a given string. If it’s not found then it returns -1.\n",
    "word = \"find me if you can\"\n",
    "print(word.find('me'))"
   ]
  }
 ],
 "metadata": {
  "kernelspec": {
   "display_name": "Python 3",
   "language": "python",
   "name": "python3"
  },
  "language_info": {
   "codemirror_mode": {
    "name": "ipython",
    "version": 3
   },
   "file_extension": ".py",
   "mimetype": "text/x-python",
   "name": "python",
   "nbconvert_exporter": "python",
   "pygments_lexer": "ipython3",
   "version": "3.11.9"
  }
 },
 "nbformat": 4,
 "nbformat_minor": 2
}
