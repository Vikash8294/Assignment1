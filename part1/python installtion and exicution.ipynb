{
 "cells": [
  {
   "cell_type": "code",
   "execution_count": 1,
   "metadata": {},
   "outputs": [
    {
     "name": "stdout",
     "output_type": "stream",
     "text": [
      "Name: Vikash KUmar Singh\n",
      "Course: MCA\n",
      "Python version:  3.11.9 (tags/v3.11.9:de54cf5, Apr  2 2024, 10:12:12) [MSC v.1938 64 bit (AMD64)]\n"
     ]
    }
   ],
   "source": [
    ">>> import sys  # Import the sys module to access system-specific parameters and functions\n",
    ">>>\n",
    ">>> # Print the user's name\n",
    ">>> print(\"Name: Vikash KUmar Singh\")\n",
    ">>> # Print the user's course\n",
    ">>> print(\"Course: MCA\")\n",
    ">>> # Print the Python version currently being used\n",
    ">>> print(\"Python version: \", sys.version)\n"
   ]
  }
 ],
 "metadata": {
  "kernelspec": {
   "display_name": "Python 3",
   "language": "python",
   "name": "python3"
  },
  "language_info": {
   "codemirror_mode": {
    "name": "ipython",
    "version": 3
   },
   "file_extension": ".py",
   "mimetype": "text/x-python",
   "name": "python",
   "nbconvert_exporter": "python",
   "pygments_lexer": "ipython3",
   "version": "3.11.9"
  }
 },
 "nbformat": 4,
 "nbformat_minor": 2
}
